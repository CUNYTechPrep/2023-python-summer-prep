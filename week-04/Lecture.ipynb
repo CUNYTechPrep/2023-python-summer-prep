{
 "cells": [
  {
   "cell_type": "markdown",
   "metadata": {},
   "source": [
    "# Topics Agenda\n",
    "0. Properly using Jupyter Notebooks.\n",
    "0. Reading Documentation!\n",
    "0. Commenting code.\n",
    "0. Variable naming\n",
    "0. Debugging Tips Review. \n",
    "0. Emphasizing print vs return \n",
    "0. Review built in data structures.\n",
    "\n"
   ]
  },
  {
   "cell_type": "markdown",
   "metadata": {},
   "source": [
    "## Properly using Jupyter Notebooks.\n",
    "With great power comes great responsibility... \n",
    "\n",
    "0. Main issue - running cells out of order. \n",
    "1. Cell types\n",
    "2. Magic commands. \n",
    "3. Reminder about how it will take over that terminal window. \n",
    "\n"
   ]
  },
  {
   "cell_type": "markdown",
   "metadata": {},
   "source": [
    "## Reading Documentation \n",
    "This is the MOST important part of the summer prep class.  \n",
    "\n",
    "0. [A simple example](https://numpy.org/doc/stable/reference/generated/numpy.round.html)\n",
    "1. [A more complicated example](https://pandas.pydata.org/docs/reference/api/pandas.read_csv.html)\n",
    "1. [Writing your own documentation](https://docs.python-guide.org/writing/documentation/#writing-docstrings)\n",
    "\n"
   ]
  },
  {
   "cell_type": "code",
   "execution_count": 9,
   "metadata": {},
   "outputs": [
    {
     "data": {
      "text/plain": [
       "array([  1., 100.])"
      ]
     },
     "execution_count": 9,
     "metadata": {},
     "output_type": "execute_result"
    }
   ],
   "source": [
    "import numpy as np\n",
    "import pandas as pd\n",
    "\n",
    "np.round([1.123456789, 99.99] )"
   ]
  },
  {
   "cell_type": "markdown",
   "metadata": {},
   "source": [
    "## Variable naming\n",
    "0. Make sure they mean someting. \n",
    "0. Overview on [good variable names](https://geo-python.github.io/site/notebooks/L1/gcp-1-variable-naming.html)\n",
    "0. Use python standard syntax of \"pothole_case_naming\" not other-TypesOFnamingCovnetions. \n",
    "0. Use things that are easily searchable by the find command or by your computers search bar. \n",
    "0. Never use `x` or `temp`, always use meaingful names. \n",
    "0. AVOID AT ALL COSTS USING python reserved keywords.\n",
    "    * words like `if and or def int string in for` and many many more \n"
   ]
  },
  {
   "cell_type": "markdown",
   "metadata": {},
   "source": [
    "If you are writing a program that calculates the area of a circle, you might name your variable \"radius\" or \"area\". Avoid using generic or meaningless names such as \"x\" or \"temp\". [more info](https://www.w3docs.com/learn-python/variable-names.html) "
   ]
  },
  {
   "cell_type": "code",
   "execution_count": null,
   "metadata": {},
   "outputs": [],
   "source": [
    "# Example 1: Calculating the area of a circle\n",
    "radius = 5\n",
    "pi = 3.14\n",
    "area = pi * radius ** 2\n",
    "\n",
    "# Example 2: Storing a person's information\n",
    "first_name = \"John\"\n",
    "last_name = \"Doe\"\n",
    "age = 30"
   ]
  },
  {
   "cell_type": "markdown",
   "metadata": {},
   "source": [
    "## Commenting Code\n",
    "\n",
    "[This is the best resource i've ever seen on good commenting swagger](https://realpython.com/python-comments-guide/)\n",
    "\n",
    "#### Basics\n",
    "```python\n",
    "# This is a comment\n",
    "\n",
    "print(\"This will run.\")  # This won't run\n",
    "```\n",
    "#### Good \n",
    "Sudo code out what you are going to do first and use those as the comments.  \n",
    "\n",
    "#### Bad \n",
    "1. Smelly code\n"
   ]
  },
  {
   "cell_type": "code",
   "execution_count": null,
   "metadata": {},
   "outputs": [],
   "source": [
    "# Smelly code\n",
    "#####  BAD EXAMPLE\n",
    "# A dictionary of families who live in each city\n",
    "mydict = {\n",
    "    \"Midtown\": [\"Powell\", \"Brantley\", \"Young\"],\n",
    "    \"Norcross\": [\"Montgomery\"], \n",
    "    \"Ackworth\": []\n",
    "}\n",
    "\n",
    "def a(dict):\n",
    "    # For each city\n",
    "    for p in dict:\n",
    "        # If there are no families in the city\n",
    "        if not mydict[p]:\n",
    "            # Say that there are no families\n",
    "            print(\"None.\")\n",
    "            \n",
    "#####  GOOD EXAMPLE\n",
    "### Not smelly code\n",
    "families_by_city = {\n",
    "    \"Midtown\": [\"Powell\", \"Brantley\", \"Young\"],\n",
    "    \"Norcross\": [\"Montgomery\"],\n",
    "    \"Ackworth\": [],\n",
    "}\n",
    "\n",
    "def no_families(cities):\n",
    "    for city in cities:\n",
    "        if not families_by_city[city]:\n",
    "            print(f\"No families in {city}.\")"
   ]
  },
  {
   "cell_type": "markdown",
   "metadata": {},
   "source": [
    "##### Lets practice some stuff."
   ]
  },
  {
   "cell_type": "markdown",
   "metadata": {},
   "source": [
    "# What error will this raise?\n"
   ]
  },
  {
   "cell_type": "code",
   "execution_count": null,
   "metadata": {},
   "outputs": [],
   "source": [
    "# What error will this raise?\n",
    "\n",
    "def func(n):\n",
    "    return n + 10\n",
    "\n",
    "func('Hello')"
   ]
  },
  {
   "cell_type": "markdown",
   "metadata": {},
   "source": [
    "# Lets fix this code\n"
   ]
  },
  {
   "cell_type": "code",
   "execution_count": null,
   "metadata": {},
   "outputs": [],
   "source": [
    "# Lets fix this code\n",
    "\n",
    "authors_dict = (\n",
    "    \"Charles Dickens\": \"1870\",\n",
    "    \"William Thackeray\", \"1863\",\n",
    "    \"Anthony Trollope\": \"1882\",\n",
    "    \"Gerard Manley Hopkins\": \"1889\"\n",
    "    )\n",
    "\n",
    "for author, date in authors_dict.items:\n",
    "    print (\"%s\" % author + \" died in \" + \"%s.\" % date)"
   ]
  },
  {
   "cell_type": "markdown",
   "metadata": {},
   "source": [
    "# What is wrong with the following use of this loop?"
   ]
  },
  {
   "cell_type": "code",
   "execution_count": 3,
   "metadata": {},
   "outputs": [
    {
     "name": "stdout",
     "output_type": "stream",
     "text": [
      "Patient's BMI is: 0.000367\n",
      "Patient's BMI is: 0.000367\n",
      "Patient's BMI is: 0.000367\n"
     ]
    }
   ],
   "source": [
    "patients = [[70, 1.8], [80, 1.9], [150, 1.7]]\n",
    "\n",
    "def calculate_bmi(weight, height):\n",
    "    return weight / (height ** 2)\n",
    "\n",
    "for patient in patients:\n",
    "    weight, height = patients[0]\n",
    "    bmi = calculate_bmi(height, weight)\n",
    "    print(\"Patient's BMI is: %f\" % bmi)"
   ]
  },
  {
   "cell_type": "code",
   "execution_count": null,
   "metadata": {},
   "outputs": [],
   "source": []
  }
 ],
 "metadata": {
  "kernelspec": {
   "display_name": "Python 3 (ipykernel)",
   "language": "python",
   "name": "python3"
  },
  "language_info": {
   "codemirror_mode": {
    "name": "ipython",
    "version": 3
   },
   "file_extension": ".py",
   "mimetype": "text/x-python",
   "name": "python",
   "nbconvert_exporter": "python",
   "pygments_lexer": "ipython3",
   "version": "3.8.5"
  }
 },
 "nbformat": 4,
 "nbformat_minor": 4
}
