{
 "cells": [
  {
   "cell_type": "markdown",
   "metadata": {},
   "source": [
    "# Create a random name picker\n"
   ]
  },
  {
   "cell_type": "code",
   "execution_count": 13,
   "metadata": {},
   "outputs": [],
   "source": [
    "import random\n",
    "\n",
    "names = [\n",
    "    'Afsana',\n",
    "    'Alex Chen',\n",
    "    'Alex Ruan'\n",
    "    'Akeksandra',\n",
    "    'Ange',\n",
    "    'Conor',\n",
    "    'Dong',\n",
    "    'Edison',\n",
    "    'Emily',\n",
    "    'Georgios',\n",
    "    'Hassan',\n",
    "    'Huimin',\n",
    "    'Justin',\n",
    "    'Lola',\n",
    "    'Maher',\n",
    "    'Marouane',\n",
    "    'Mohammed S',\n",
    "    'Nguyen',\n",
    "    'Philip',\n",
    "    'Shokhrukh',\n",
    "    'Victor',\n",
    "    'Yussef']\n"
   ]
  },
  {
   "cell_type": "code",
   "execution_count": 42,
   "metadata": {},
   "outputs": [
    {
     "name": "stdout",
     "output_type": "stream",
     "text": [
      "10\n",
      "['A', ' ', 's', 't', 'r', 'i', 'n', 'g']\n"
     ]
    },
    {
     "data": {
      "text/plain": [
       "2"
      ]
     },
     "execution_count": 42,
     "metadata": {},
     "output_type": "execute_result"
    }
   ],
   "source": [
    "def my_func():\n",
    "    x = 10\n",
    "    print(x)\n",
    "    return 5, 10\n",
    "\n",
    "my_func()\n",
    "\n",
    "import numpy as np\n",
    "np.array([12,3])\n",
    "\n",
    "\n",
    "my_string = 'A string'\n",
    "\n",
    "x = list(my_string)\n",
    "\n",
    "my_string.split('s')\n",
    "\n",
    "\n",
    "print(x)\n",
    "x.index(\"s\")\n"
   ]
  },
  {
   "cell_type": "code",
   "execution_count": 73,
   "metadata": {},
   "outputs": [
    {
     "data": {
      "text/plain": [
       "{}"
      ]
     },
     "execution_count": 73,
     "metadata": {},
     "output_type": "execute_result"
    }
   ],
   "source": [
    "\n",
    "def my_func(y, x=5):\n",
    "\n",
    "    return(x)\n",
    "\n",
    "my_dict = {'key1':999, 'key2':999, 'key1':100, 'key3':999}\n",
    "my_dict\n",
    "\n",
    "my_dict = {}\n",
    "my_dict = dict()\n",
    "my_dict"
   ]
  },
  {
   "cell_type": "code",
   "execution_count": 74,
   "metadata": {},
   "outputs": [
    {
     "name": "stdout",
     "output_type": "stream",
     "text": [
      "Edison\n"
     ]
    },
    {
     "data": {
      "text/plain": [
       "['Emily']"
      ]
     },
     "execution_count": 74,
     "metadata": {},
     "output_type": "execute_result"
    }
   ],
   "source": [
    "chosen_name = random.choice(names)\n",
    "print(chosen_name)\n",
    "names.remove(chosen_name)\n",
    "names"
   ]
  },
  {
   "cell_type": "markdown",
   "metadata": {},
   "source": [
    "# What error will this raise?\n"
   ]
  },
  {
   "cell_type": "code",
   "execution_count": null,
   "metadata": {},
   "outputs": [],
   "source": [
    "# What error will this raise?\n",
    "\n",
    "def func(n):\n",
    "    return n + 10\n",
    "\n",
    "func('Hello')"
   ]
  },
  {
   "cell_type": "markdown",
   "metadata": {},
   "source": [
    "# Lets fix this code\n"
   ]
  },
  {
   "cell_type": "code",
   "execution_count": null,
   "metadata": {},
   "outputs": [],
   "source": [
    "# Lets fix this code\n",
    "\n",
    "authors_dict = (\n",
    "    \"Charles Dickens\": \"1870\",\n",
    "    \"William Thackeray\", \"1863\",\n",
    "    \"Anthony Trollope\": \"1882\",\n",
    "    \"Gerard Manley Hopkins\": \"1889\"\n",
    "    )\n",
    "\n",
    "for author, date in authors_dict.items:\n",
    "    print (\"%s\" % author + \" died in \" + \"%s.\" % date)"
   ]
  },
  {
   "cell_type": "markdown",
   "metadata": {},
   "source": [
    "# What is wrong with the following use of this loop?"
   ]
  },
  {
   "cell_type": "code",
   "execution_count": 3,
   "metadata": {},
   "outputs": [
    {
     "name": "stdout",
     "output_type": "stream",
     "text": [
      "Patient's BMI is: 0.000367\n",
      "Patient's BMI is: 0.000367\n",
      "Patient's BMI is: 0.000367\n"
     ]
    }
   ],
   "source": [
    "patients = [[70, 1.8], [80, 1.9], [150, 1.7]]\n",
    "\n",
    "def calculate_bmi(weight, height):\n",
    "    return weight / (height ** 2)\n",
    "\n",
    "for patient in patients:\n",
    "    weight, height = patients[0]\n",
    "    bmi = calculate_bmi(height, weight)\n",
    "    print(\"Patient's BMI is: %f\" % bmi)"
   ]
  },
  {
   "cell_type": "code",
   "execution_count": null,
   "metadata": {},
   "outputs": [],
   "source": []
  }
 ],
 "metadata": {
  "kernelspec": {
   "display_name": "Python 3",
   "language": "python",
   "name": "python3"
  },
  "language_info": {
   "codemirror_mode": {
    "name": "ipython",
    "version": 3
   },
   "file_extension": ".py",
   "mimetype": "text/x-python",
   "name": "python",
   "nbconvert_exporter": "python",
   "pygments_lexer": "ipython3",
   "version": "3.8.5"
  }
 },
 "nbformat": 4,
 "nbformat_minor": 4
}
