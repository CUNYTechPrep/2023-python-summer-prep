{
 "cells": [
  {
   "cell_type": "markdown",
   "metadata": {},
   "source": [
    "# Problem Alphabet Slices\n",
    "* Store the first ten letters of the alphabet in a list.\n",
    "* Use a slice to print out the first three letters of the alphabet.\n",
    "* Use a slice to print out any three letters from the middle of your list."
   ]
  },
  {
   "cell_type": "code",
   "execution_count": 2,
   "metadata": {},
   "outputs": [
    {
     "name": "stdout",
     "output_type": "stream",
     "text": [
      "['a', 'b', 'c']\n",
      "['e', 'f', 'g']\n"
     ]
    }
   ],
   "source": [
    "# Solve Alphabet slices here. \n",
    "\n",
    "alpha = ['a', 'b', 'c','d','e','f','g','h', 'i','j']\n",
    "\n",
    "print(alpha[:3])\n",
    "print(alpha[4:7])"
   ]
  },
  {
   "cell_type": "markdown",
   "metadata": {},
   "source": [
    "# Problem:  Covert all the rapper names to title case and save them into a new different list. \n",
    "example: lil wayne becomes Lil Wayne"
   ]
  },
  {
   "cell_type": "code",
   "execution_count": 4,
   "metadata": {},
   "outputs": [
    {
     "name": "stdout",
     "output_type": "stream",
     "text": [
      "['Lil Wayne', 'Nicki Minaj', 'Drake']\n"
     ]
    }
   ],
   "source": [
    "# Solve rapper names here\n",
    "rappers = ['lil wayne', 'nicki minaj', 'drake']\n",
    "rappers_title = []\n",
    "\n",
    "for r in rappers:\n",
    "    title_case = r.title()\n",
    "    rappers_title.append(title_case)\n",
    "\n",
    "print(rappers_title)"
   ]
  },
  {
   "cell_type": "markdown",
   "metadata": {},
   "source": [
    "# Problem: Write a function thats input is a number and output is:\n",
    "* Return True if the input number is even.\n",
    "* Return False if the input number is odd."
   ]
  },
  {
   "cell_type": "code",
   "execution_count": 9,
   "metadata": {},
   "outputs": [
    {
     "data": {
      "text/plain": [
       "False"
      ]
     },
     "execution_count": 9,
     "metadata": {},
     "output_type": "execute_result"
    }
   ],
   "source": [
    "# Solve problem here\n",
    "\n",
    "def odd_even(x):\n",
    "    if x % 2 == 0:\n",
    "        return True\n",
    "    else:\n",
    "        return False\n",
    "    \n",
    "odd_even(45)"
   ]
  },
  {
   "cell_type": "markdown",
   "metadata": {},
   "source": [
    "# Problem: Find the sum and the average of this list of numbers.\n",
    "\n",
    "Try doing this using a loop.  Then try doing this without using a loop. "
   ]
  },
  {
   "cell_type": "code",
   "execution_count": 14,
   "metadata": {},
   "outputs": [
    {
     "name": "stdout",
     "output_type": "stream",
     "text": [
      "353 35.3\n"
     ]
    }
   ],
   "source": [
    "# Solve problem here:\n",
    "\n",
    "my_list = [1, 5, 10, 55, 88, 44, 42, 50, 20, 38]\n",
    "\n",
    "tally = 0\n",
    "for number in my_list:\n",
    "    tally+=number\n",
    "\n",
    "list_sum = tally\n",
    "list_avg = tally / len(my_list)\n",
    "\n",
    "\n",
    "# without a loop\n",
    "list_sum = sum(my_list)\n",
    "list_avg = sum(my_list) / len(my_list)\n",
    "\n",
    "\n",
    "# Keep this as your last line in this cell.\n",
    "print(list_sum, list_avg)"
   ]
  },
  {
   "cell_type": "markdown",
   "metadata": {},
   "source": [
    "# Problem: Write a function that input is a number and output returns the following\n",
    "* If the input is divisible by three, return 'fizz'\n",
    "* If the input is divisible by five, return 'buzz'\n",
    "* If the input is divisible by three and by five, return 'fizzbuzz'\n",
    "* If the input is not divisible by three or five, return None."
   ]
  },
  {
   "cell_type": "code",
   "execution_count": 20,
   "metadata": {},
   "outputs": [],
   "source": [
    "# Solve Problem fizzbuzz here:\n",
    "\n",
    "def fizzbuzz(x):\n",
    "    if (x % 3 == 0) and (x % 5 == 0):\n",
    "        return 'fizzbuzz'\n",
    "    if x % 3 == 0:\n",
    "        return 'fizz'\n",
    "    if x % 5 == 0:\n",
    "        return 'buzz'\n",
    "    else:\n",
    "        return None\n",
    "    \n",
    "fizzbuzz(4)"
   ]
  },
  {
   "cell_type": "markdown",
   "metadata": {},
   "source": [
    "# Problem: \n",
    "Write a function that takes a list and returns a new list that contains all the elements of the first list minus all the duplicates.\n",
    "\n",
    "Example input and expected output\n",
    "\n",
    "input = [\"Michele\", \"Robin\", \"Sara\", \"Michele\"]\n",
    "\n",
    "expected output = ['Michele', 'Robin', 'Sara']\n"
   ]
  },
  {
   "cell_type": "code",
   "execution_count": 26,
   "metadata": {},
   "outputs": [
    {
     "name": "stdout",
     "output_type": "stream",
     "text": [
      "['Sara', 'Michele', 'Robin'] ['Sara', 'Michele', 'Robin']\n"
     ]
    }
   ],
   "source": [
    "# Solve problem here:\n",
    "\n",
    "names = [\"Michele\", \"Robin\", \"Sara\", \"Michele\"]\n",
    "\n",
    "# Smooth way\n",
    "names = set(names)\n",
    "names = list(names)\n",
    "\n",
    "\n",
    "# Corret but less smooth way\n",
    "\n",
    "unique_names = []\n",
    "for name in names:\n",
    "    if name not in unique_names:\n",
    "        unique_names.append(name)\n",
    "\n",
    "print(names, unique_names)"
   ]
  },
  {
   "cell_type": "markdown",
   "metadata": {},
   "source": [
    "# Problem: \n",
    "Write a function that takes a list of numbers (for example, a = [5, 10, 15, 20, 25]) and returns a new list of only the first and last elements of the given list.\n",
    "\n",
    "Example input and expected output:\n",
    "\n",
    "input = [5, 10, 15, 20, 25]\n",
    "\n",
    "expected output = [5, 25]"
   ]
  },
  {
   "cell_type": "code",
   "execution_count": 28,
   "metadata": {},
   "outputs": [
    {
     "data": {
      "text/plain": [
       "[5, 25]"
      ]
     },
     "execution_count": 28,
     "metadata": {},
     "output_type": "execute_result"
    }
   ],
   "source": [
    "# Solve problem here:\n",
    "example_list = [5, 10, 99, 20, 25]\n",
    "\n",
    "\n",
    "def list_reducer(input_list):\n",
    "    first_element = input_list[0]\n",
    "    last_element = input_list[-1]\n",
    "    return([first_element, last_element])\n",
    "\n",
    "list_reducer(example_list)"
   ]
  },
  {
   "cell_type": "markdown",
   "metadata": {},
   "source": [
    "# Problem:  Implement a function that takes as input three variables, and returns the largest of the three. \n",
    "Do this without using the Python max() function! \n",
    "_*Note all three input numbers will always be different, no need to account for a tie._\n",
    "\n",
    "Example input and expected output:\n",
    "\n",
    "input = your_function(1, 5, 10)\n",
    "\n",
    "expected output:  10"
   ]
  },
  {
   "cell_type": "code",
   "execution_count": 34,
   "metadata": {},
   "outputs": [
    {
     "data": {
      "text/plain": [
       "5"
      ]
     },
     "execution_count": 34,
     "metadata": {},
     "output_type": "execute_result"
    }
   ],
   "source": [
    "# Solve Problem here:\n",
    "\n",
    "def max_finder(a, b, c):\n",
    "    # Fill in your code below and return max value of a, b, c\n",
    "    if a > b and c:\n",
    "        return a\n",
    "    if b > a and c:\n",
    "        return b\n",
    "    if c > b and a:\n",
    "        return c\n",
    "    \n",
    "max_finder(1, 5, 10)"
   ]
  },
  {
   "cell_type": "code",
   "execution_count": null,
   "metadata": {},
   "outputs": [],
   "source": []
  },
  {
   "cell_type": "code",
   "execution_count": null,
   "metadata": {},
   "outputs": [],
   "source": []
  }
 ],
 "metadata": {
  "kernelspec": {
   "display_name": "Python 3",
   "language": "python",
   "name": "python3"
  },
  "language_info": {
   "codemirror_mode": {
    "name": "ipython",
    "version": 3
   },
   "file_extension": ".py",
   "mimetype": "text/x-python",
   "name": "python",
   "nbconvert_exporter": "python",
   "pygments_lexer": "ipython3",
   "version": "3.8.5"
  }
 },
 "nbformat": 4,
 "nbformat_minor": 4
}
