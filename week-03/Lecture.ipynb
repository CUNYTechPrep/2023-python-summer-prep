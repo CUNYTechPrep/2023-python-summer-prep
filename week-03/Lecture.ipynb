{
 "cells": [
  {
   "cell_type": "markdown",
   "metadata": {},
   "source": [
    "# Classes aka Objects\n",
    "\n",
    "Classes provide a means of bundling data and functionality together. Creating a new class creates a new type of object, allowing new instances of that type to be made. Each class instance can have attributes attached to it for maintaining its state. Class instances can also have methods (defined by its class) for modifying its state.\n",
    "\n",
    "* All classes have a function called `__init__()`, which is always executed when the class is being initiated.\n",
    "\n",
    "* Objects can also contain methods. Methods in objects are functions that belong to the object.\n",
    "\n",
    "* The `self` parameter is a reference to the current instance of the class, and is used to access variables that belongs to the class.\n",
    "\n"
   ]
  },
  {
   "cell_type": "code",
   "execution_count": 24,
   "metadata": {},
   "outputs": [
    {
     "name": "stdout",
     "output_type": "stream",
     "text": [
      "Weezy, says woof\n",
      "9\n"
     ]
    }
   ],
   "source": [
    "class Dog:\n",
    "    # You must have the __init__ function\n",
    "    def __init__(self, name, age):\n",
    "        # class variables\n",
    "        self.name = name\n",
    "        self.age = age\n",
    "    \n",
    "    def speak(self):\n",
    "        print(f\"{self.name}, says woof\")\n",
    "        #print('%s says woof' % self.name)\n",
    "        #print(str(self.name), 'says woof.')\n",
    "        \n",
    "    def say_age(self):\n",
    "        print(str(self.age))\n",
    "\n",
    "\n",
    "# create a Dog object\n",
    "my_dog = Dog(name='Weezy', age=9)\n",
    "my_dog.speak()\n",
    "my_dog.say_age()\n",
    "\n",
    "another_dog = Dog(name='Bubbles', age=1)\n",
    "\n",
    "# # call the objects description method\n",
    "# my_dog.description()\n",
    "\n",
    "# # call the objects speak method\n",
    "# my_dog.speak(sound='woof')\n"
   ]
  },
  {
   "cell_type": "code",
   "execution_count": 19,
   "metadata": {},
   "outputs": [
    {
     "data": {
      "text/plain": [
       "('<__main__.Dog object at 0x7fd90a8456d0>', str)"
      ]
     },
     "execution_count": 19,
     "metadata": {},
     "output_type": "execute_result"
    }
   ],
   "source": [
    "x = str(my_dog) \n",
    "x, type(x)"
   ]
  },
  {
   "cell_type": "code",
   "execution_count": null,
   "metadata": {},
   "outputs": [],
   "source": []
  },
  {
   "cell_type": "markdown",
   "metadata": {},
   "source": [
    "# How would we make a new Human class that has their name, age, and home address?"
   ]
  },
  {
   "cell_type": "code",
   "execution_count": 28,
   "metadata": {},
   "outputs": [
    {
     "data": {
      "text/plain": [
       "'Bob'"
      ]
     },
     "execution_count": 28,
     "metadata": {},
     "output_type": "execute_result"
    }
   ],
   "source": [
    "class Human:\n",
    "    def __init__(self, name, age, home_address):\n",
    "        self.name = name\n",
    "        self.age = age\n",
    "        self.home_address = home_address\n",
    "man = Human('Bob', 50, '1201 Springs Fireplace Road')\n",
    "man.name"
   ]
  },
  {
   "cell_type": "markdown",
   "metadata": {},
   "source": [
    "# How would you give it a function to grow older by 5 years?"
   ]
  },
  {
   "cell_type": "code",
   "execution_count": 41,
   "metadata": {},
   "outputs": [
    {
     "data": {
      "text/plain": [
       "38"
      ]
     },
     "execution_count": 41,
     "metadata": {},
     "output_type": "execute_result"
    }
   ],
   "source": [
    "class Human:\n",
    "    def __init__(self, name='Dwayne', age=38, home_address='124 Road'):\n",
    "        self.name = name\n",
    "        self.age = age\n",
    "        self.home_address = home_address\n",
    "    \n",
    "    def grow(self, years=5):\n",
    "        self.age = self.age + years\n",
    "        #self.age += 5\n",
    "\n",
    "        \n",
    "#man = Human('Bob', 50, '1201 Springs Fireplace Road')\n",
    "dude = Human()\n",
    "dude.age\n",
    "# print(man.age)\n",
    "# man.grow()\n",
    "# print(man.age)"
   ]
  },
  {
   "cell_type": "code",
   "execution_count": 47,
   "metadata": {},
   "outputs": [],
   "source": [
    "def say_something(other_thing, input_string='hello'):\n",
    "    print(input_string, other_thing)\n",
    "    \n",
    "#say_something()  \n",
    "#say_something('tee shirt')  "
   ]
  },
  {
   "cell_type": "markdown",
   "metadata": {},
   "source": [
    "# Reading in files."
   ]
  },
  {
   "cell_type": "code",
   "execution_count": 66,
   "metadata": {
    "collapsed": true
   },
   "outputs": [
    {
     "name": "stdout",
     "output_type": "stream",
     "text": [
      "Dwayne Michael Carter Jr. (born September 27, 1982),[2] known professionally as Lil Wayne, is an American rapper, singer, songwriter and record executive.. He is commonly regarded as one of the most influential hip hop artists of his generation,[3] and often cited as one of the greatest rappers of all time.[4][5] His career began in 1995, at the age of 12, when he was signed by rapper Birdman, joining Cash Money Records as the youngest member of the label.[6] From then on, Wayne was the flagship artist of Cash Money Records before ending his association with the company in June 2018.[7]\n",
      "\n",
      "In 1995, Wayne was put in a duo with label-mate B.G. (at the time known as Lil Doogie) and they recorded an album, True Story, released that year, although Wayne (at the time known as Baby D) only appeared on three tracks.[8] Wayne and B.G. soon joined the southern hip hop group Hot Boys, with Cash Money label-mates Juvenile and Turk in 1997; they released their debut album Get It How U Live! in October that year. The Hot Boys became popular following the release of the album Guerrilla Warfare (1999) and the song Bling Bling.\n",
      "\n",
      "Lil Waynes solo debut album Tha Block Is Hot (1999) was his solo breakthrough, and he reached higher popularity with his fourth album Tha Carter (2004) and fifth album Tha Carter II (2005), as well as several mixtapes and collaborations throughout 2006 and 2007. He gained more prominence within the music industry with his sixth album Tha Carter III (2008), with first-week sales of over one million copies in the US. The album won the Grammy Award for Best Rap Album and included successful singles A Milli, Got Money (featuring T-Pain), and Lollipop (featuring Static Major)—the latter being his first single to reach number one on the Billboard Hot 100. In February 2010, Wayne released his seventh studio album, Rebirth, which experimented with rap rock and was met with generally negative reviews. A month later in March 2010, Lil Wayne began serving an 8-month jail sentence in New York after being convicted of criminal possession of a weapon stemming from an incident in July 2007. His eighth studio album I Am Not a Human Being (2010) was released during his incarceration, while his 2011 album Tha Carter IV was released following his release. Tha Carter IV sold 964,000 copies in its first week in the United States.[9] His twelfth studio album Tha Carter V was released in 2018 after multiple delays. Waynes thirteenth album, Funeral, was released in early 2020.[10]\n",
      "\n",
      "Lil Wayne has sold over 120 million records worldwide, including more than 20 million albums and 70 million digital tracks in the United States, making him one of the worlds best-selling music artists.[11][12][13] He has won five Grammy Awards, 11 BET Awards, four Billboard Music Awards, two MTV Video Music Awards and eight NAACP Image Awards. On September 27, 2012, he became the first male artist to surpass Elvis Presley with the most entries on the Billboard Hot 100, with 109 songs.[14][15] Lil Wayne also currently serves as the chief executive officer (CEO) of his own label, Young Money Entertainment.\n"
     ]
    }
   ],
   "source": [
    "# Define the path to the file you want to read.\n",
    "# path_to_file = 'data/lil-wayne.txt'\n",
    "path_to_file = 'data/lil-wayne.txt'\n",
    "\n",
    "file_handle = open(file=path_to_file)\n",
    "\n",
    "data = file_handle.read()\n",
    "\n",
    "file_handle.close()\n",
    "\n",
    "print(data)"
   ]
  },
  {
   "cell_type": "code",
   "execution_count": 76,
   "metadata": {
    "scrolled": true
   },
   "outputs": [
    {
     "data": {
      "text/plain": [
       "list"
      ]
     },
     "execution_count": 76,
     "metadata": {},
     "output_type": "execute_result"
    }
   ],
   "source": [
    "# Define the path to the file you want to read.\n",
    "# path_to_file = 'data/lil-wayne.txt'\n",
    "path_to_file = 'data/lil-wayne.txt'\n",
    "\n",
    "file_handle = open(file=path_to_file)\n",
    "\n",
    "data = file_handle.readlines()\n",
    "\n",
    "file_handle.close()\n",
    "\n",
    "type(data)\n"
   ]
  },
  {
   "cell_type": "code",
   "execution_count": 87,
   "metadata": {
    "collapsed": true
   },
   "outputs": [
    {
     "data": {
      "text/plain": [
       "['Dwayne Michael Carter Jr. (born September 27, 1982),[2] known professionally as Lil Wayne, is an American rapper, singer, songwriter and record executive.. He is commonly regarded as one of the most influential hip hop artists of his generation,[3] and often cited as one of the greatest rappers of all time.[4][5] His career began in 1995, at the age of 12, when he was signed by rapper Birdman, joining Cash Money Records as the youngest member of the label.[6] From then on, Wayne was the flagship artist of Cash Money Records before ending his association with the company in June 2018.[7]\\n',\n",
       " '\\n',\n",
       " 'In 1995, Wayne was put in a duo with label-mate B.G. (at the time known as Lil Doogie) and they recorded an album, True Story, released that year, although Wayne (at the time known as Baby D) only appeared on three tracks.[8] Wayne and B.G. soon joined the southern hip hop group Hot Boys, with Cash Money label-mates Juvenile and Turk in 1997; they released their debut album Get It How U Live! in October that year. The Hot Boys became popular following the release of the album Guerrilla Warfare (1999) and the song Bling Bling.\\n',\n",
       " '\\n',\n",
       " 'Lil Waynes solo debut album Tha Block Is Hot (1999) was his solo breakthrough, and he reached higher popularity with his fourth album Tha Carter (2004) and fifth album Tha Carter II (2005), as well as several mixtapes and collaborations throughout 2006 and 2007. He gained more prominence within the music industry with his sixth album Tha Carter III (2008), with first-week sales of over one million copies in the US. The album won the Grammy Award for Best Rap Album and included successful singles A Milli, Got Money (featuring T-Pain), and Lollipop (featuring Static Major)—the latter being his first single to reach number one on the Billboard Hot 100. In February 2010, Wayne released his seventh studio album, Rebirth, which experimented with rap rock and was met with generally negative reviews. A month later in March 2010, Lil Wayne began serving an 8-month jail sentence in New York after being convicted of criminal possession of a weapon stemming from an incident in July 2007. His eighth studio album I Am Not a Human Being (2010) was released during his incarceration, while his 2011 album Tha Carter IV was released following his release. Tha Carter IV sold 964,000 copies in its first week in the United States.[9] His twelfth studio album Tha Carter V was released in 2018 after multiple delays. Waynes thirteenth album, Funeral, was released in early 2020.[10]\\n',\n",
       " '\\n',\n",
       " 'Lil Wayne has sold over 120 million records worldwide, including more than 20 million albums and 70 million digital tracks in the United States, making him one of the worlds best-selling music artists.[11][12][13] He has won five Grammy Awards, 11 BET Awards, four Billboard Music Awards, two MTV Video Music Awards and eight NAACP Image Awards. On September 27, 2012, he became the first male artist to surpass Elvis Presley with the most entries on the Billboard Hot 100, with 109 songs.[14][15] Lil Wayne also currently serves as the chief executive officer (CEO) of his own label, Young Money Entertainment.']"
      ]
     },
     "execution_count": 87,
     "metadata": {},
     "output_type": "execute_result"
    }
   ],
   "source": [
    "# Define the path to the file you want to read.\n",
    "# path_to_file = 'data/lil-wayne.txt'\n",
    "path_to_file = 'data/lil-wayne.bbb'\n",
    "\n",
    "file_handle = open(file=path_to_file)\n",
    "\n",
    "data = file_handle.readlines()\n",
    "\n",
    "file_handle.close()\n",
    "\n",
    "data\n"
   ]
  },
  {
   "cell_type": "code",
   "execution_count": 67,
   "metadata": {
    "collapsed": true
   },
   "outputs": [
    {
     "name": "stdout",
     "output_type": "stream",
     "text": [
      "The Zen of Python, by Tim Peters\n",
      "\n",
      "Beautiful is better than ugly.\n",
      "Explicit is better than implicit.\n",
      "Simple is better than complex.\n",
      "Complex is better than complicated.\n",
      "Flat is better than nested.\n",
      "Sparse is better than dense.\n",
      "Readability counts.\n",
      "Special cases aren't special enough to break the rules.\n",
      "Although practicality beats purity.\n",
      "Errors should never pass silently.\n",
      "Unless explicitly silenced.\n",
      "In the face of ambiguity, refuse the temptation to guess.\n",
      "There should be one-- and preferably only one --obvious way to do it.\n",
      "Although that way may not be obvious at first unless you're Dutch.\n",
      "Now is better than never.\n",
      "Although never is often better than *right* now.\n",
      "If the implementation is hard to explain, it's a bad idea.\n",
      "If the implementation is easy to explain, it may be a good idea.\n",
      "Namespaces are one honking great idea -- let's do more of those!\n"
     ]
    }
   ],
   "source": [
    "import this\n"
   ]
  },
  {
   "cell_type": "code",
   "execution_count": null,
   "metadata": {},
   "outputs": [],
   "source": []
  },
  {
   "cell_type": "code",
   "execution_count": 54,
   "metadata": {},
   "outputs": [
    {
     "data": {
      "text/plain": [
       "'/Users/zacharydesario/summer-2022/python-summer-prep-2022/week-03/data/lil-wayne.txt'"
      ]
     },
     "execution_count": 54,
     "metadata": {},
     "output_type": "execute_result"
    }
   ],
   "source": [
    "import os\n",
    "filename = os.path.join(os.getcwd(), \"data\")\n",
    "open(filename+'/lil-wayne.txt)"
   ]
  },
  {
   "cell_type": "markdown",
   "metadata": {},
   "source": [
    "# Writing files"
   ]
  },
  {
   "cell_type": "code",
   "execution_count": 89,
   "metadata": {},
   "outputs": [],
   "source": [
    "# Create a new file name\n",
    "my_new_file = 'data/my_new_file.txt'\n",
    "\n",
    "file_object = open(my_new_file, mode='w')\n",
    "\n",
    "# Create some text to give the file.\n",
    "my_text = 'There are two trillion GALAXIES in the universe.  Each galaxy has approx 100 billion stars.'\n",
    "\n",
    "file_object.write(my_text)\n",
    "\n",
    "# Close the file. \n",
    "file_object.close()"
   ]
  },
  {
   "cell_type": "code",
   "execution_count": 84,
   "metadata": {},
   "outputs": [],
   "source": []
  },
  {
   "cell_type": "markdown",
   "metadata": {},
   "source": [
    "# Reading Errors in Python\n",
    "\n",
    "This traceback output has all of the information you’ll need to diagnose the issue. \n",
    "\n",
    "The final line of the traceback output tells you what type of exception was raised along with some relevant information about that exception. \n",
    "\n",
    "The previous lines of the traceback point out the code that resulted in the exception being raised.\n"
   ]
  },
  {
   "cell_type": "code",
   "execution_count": 92,
   "metadata": {},
   "outputs": [
    {
     "name": "stdout",
     "output_type": "stream",
     "text": [
      "Hello, Beyonce\n"
     ]
    }
   ],
   "source": [
    "def greet(someone):\n",
    "    print('Hello, ' + someone)\n",
    "\n",
    "greet('Beyonce')"
   ]
  },
  {
   "cell_type": "code",
   "execution_count": 93,
   "metadata": {},
   "outputs": [
    {
     "ename": "FileNotFoundError",
     "evalue": "[Errno 2] No such file or directory: 'data/not-a-real-file.txt'",
     "output_type": "error",
     "traceback": [
      "\u001b[0;31m---------------------------------------------------------------------------\u001b[0m",
      "\u001b[0;31mFileNotFoundError\u001b[0m                         Traceback (most recent call last)",
      "\u001b[0;32m<ipython-input-93-3c155d2ea4cc>\u001b[0m in \u001b[0;36m<module>\u001b[0;34m\u001b[0m\n\u001b[1;32m      1\u001b[0m \u001b[0mincorrect_file_path\u001b[0m \u001b[0;34m=\u001b[0m \u001b[0;34m'data/not-a-real-file.txt'\u001b[0m\u001b[0;34m\u001b[0m\u001b[0;34m\u001b[0m\u001b[0m\n\u001b[0;32m----> 2\u001b[0;31m \u001b[0mfh\u001b[0m \u001b[0;34m=\u001b[0m \u001b[0mopen\u001b[0m\u001b[0;34m(\u001b[0m\u001b[0mincorrect_file_path\u001b[0m\u001b[0;34m,\u001b[0m \u001b[0;34m'r'\u001b[0m\u001b[0;34m)\u001b[0m\u001b[0;34m\u001b[0m\u001b[0;34m\u001b[0m\u001b[0m\n\u001b[0m",
      "\u001b[0;31mFileNotFoundError\u001b[0m: [Errno 2] No such file or directory: 'data/not-a-real-file.txt'"
     ]
    }
   ],
   "source": [
    "incorrect_file_path = 'data/not-a-real-file.txt'\n",
    "fh = open(incorrect_file_path, 'r')"
   ]
  },
  {
   "cell_type": "markdown",
   "metadata": {},
   "source": [
    "# Googling Errors\n",
    "\n",
    "In the above error. You would want to google just the first part, `FileNotFoundError: [Errno 2] No such file or directory:'.`  You would want to exclude the `'data/not-a-real-file.txt'`part.  \n",
    "\n",
    "Why do you think that is?\n",
    "\n"
   ]
  },
  {
   "cell_type": "markdown",
   "metadata": {},
   "source": [
    "# Libraries aka Packages\n",
    "* [Internal Packages aka Libraries that come with Python](https://docs.python.org/3/library/)\n",
    "* [Libraries that come with Anaconda](https://docs.anaconda.com/anaconda/packages/py3.8_osx-64/)\n",
    "* There are many other external libraries that you need to install via pip. \n",
    "\n",
    "\n",
    "It is python convention (aka best practice) to import your libraries at the beginning of your python file (so at the very top). "
   ]
  },
  {
   "cell_type": "code",
   "execution_count": 95,
   "metadata": {},
   "outputs": [
    {
     "data": {
      "text/plain": [
       "'0123456789'"
      ]
     },
     "execution_count": 95,
     "metadata": {},
     "output_type": "execute_result"
    }
   ],
   "source": [
    "import math\n",
    "import string\n",
    "\n",
    "string.digits"
   ]
  },
  {
   "cell_type": "code",
   "execution_count": 96,
   "metadata": {},
   "outputs": [
    {
     "name": "stdout",
     "output_type": "stream",
     "text": [
      "3628800\n",
      "10.0\n"
     ]
    }
   ],
   "source": [
    "print(math.factorial(10))\n",
    "print(math.sqrt(100))"
   ]
  },
  {
   "cell_type": "markdown",
   "metadata": {},
   "source": [
    "# Reading documentation\n",
    "\n",
    "* pandas read_csv documentation https://pandas.pydata.org/docs/reference/api/pandas.read_csv.html"
   ]
  },
  {
   "cell_type": "code",
   "execution_count": 97,
   "metadata": {},
   "outputs": [],
   "source": [
    "import pandas as pd"
   ]
  },
  {
   "cell_type": "code",
   "execution_count": 104,
   "metadata": {},
   "outputs": [
    {
     "data": {
      "text/html": [
       "<div>\n",
       "<style scoped>\n",
       "    .dataframe tbody tr th:only-of-type {\n",
       "        vertical-align: middle;\n",
       "    }\n",
       "\n",
       "    .dataframe tbody tr th {\n",
       "        vertical-align: top;\n",
       "    }\n",
       "\n",
       "    .dataframe thead th {\n",
       "        text-align: right;\n",
       "    }\n",
       "</style>\n",
       "<table border=\"1\" class=\"dataframe\">\n",
       "  <thead>\n",
       "    <tr style=\"text-align: right;\">\n",
       "      <th></th>\n",
       "      <th>passengerid</th>\n",
       "      <th>survived</th>\n",
       "      <th>pclass</th>\n",
       "      <th>name</th>\n",
       "      <th>sex</th>\n",
       "      <th>age</th>\n",
       "      <th>sibsp</th>\n",
       "      <th>parch</th>\n",
       "      <th>ticket</th>\n",
       "      <th>fare</th>\n",
       "      <th>cabin</th>\n",
       "      <th>embarked</th>\n",
       "    </tr>\n",
       "  </thead>\n",
       "  <tbody>\n",
       "    <tr>\n",
       "      <th>0</th>\n",
       "      <td>1</td>\n",
       "      <td>0</td>\n",
       "      <td>3</td>\n",
       "      <td>Braund, Mr. Owen Harris</td>\n",
       "      <td>male</td>\n",
       "      <td>22.0</td>\n",
       "      <td>1</td>\n",
       "      <td>0</td>\n",
       "      <td>A/5 21171</td>\n",
       "      <td>7.2500</td>\n",
       "      <td>NaN</td>\n",
       "      <td>S</td>\n",
       "    </tr>\n",
       "    <tr>\n",
       "      <th>1</th>\n",
       "      <td>3</td>\n",
       "      <td>1</td>\n",
       "      <td>3</td>\n",
       "      <td>Heikkinen, Miss. Laina</td>\n",
       "      <td>female</td>\n",
       "      <td>26.0</td>\n",
       "      <td>0</td>\n",
       "      <td>0</td>\n",
       "      <td>STON/O2. 3101282</td>\n",
       "      <td>7.9250</td>\n",
       "      <td>NaN</td>\n",
       "      <td>S</td>\n",
       "    </tr>\n",
       "    <tr>\n",
       "      <th>2</th>\n",
       "      <td>5</td>\n",
       "      <td>0</td>\n",
       "      <td>3</td>\n",
       "      <td>Allen, Mr. William Henry</td>\n",
       "      <td>male</td>\n",
       "      <td>35.0</td>\n",
       "      <td>0</td>\n",
       "      <td>0</td>\n",
       "      <td>373450</td>\n",
       "      <td>8.0500</td>\n",
       "      <td>NaN</td>\n",
       "      <td>S</td>\n",
       "    </tr>\n",
       "    <tr>\n",
       "      <th>3</th>\n",
       "      <td>6</td>\n",
       "      <td>0</td>\n",
       "      <td>3</td>\n",
       "      <td>Moran, Mr. James</td>\n",
       "      <td>male</td>\n",
       "      <td>NaN</td>\n",
       "      <td>0</td>\n",
       "      <td>0</td>\n",
       "      <td>330877</td>\n",
       "      <td>8.4583</td>\n",
       "      <td>NaN</td>\n",
       "      <td>Q</td>\n",
       "    </tr>\n",
       "    <tr>\n",
       "      <th>4</th>\n",
       "      <td>7</td>\n",
       "      <td>0</td>\n",
       "      <td>1</td>\n",
       "      <td>McCarthy, Mr. Timothy J</td>\n",
       "      <td>male</td>\n",
       "      <td>54.0</td>\n",
       "      <td>0</td>\n",
       "      <td>0</td>\n",
       "      <td>17463</td>\n",
       "      <td>51.8625</td>\n",
       "      <td>E46</td>\n",
       "      <td>S</td>\n",
       "    </tr>\n",
       "  </tbody>\n",
       "</table>\n",
       "</div>"
      ],
      "text/plain": [
       "   passengerid  survived  pclass                      name     sex   age  \\\n",
       "0            1         0       3   Braund, Mr. Owen Harris    male  22.0   \n",
       "1            3         1       3    Heikkinen, Miss. Laina  female  26.0   \n",
       "2            5         0       3  Allen, Mr. William Henry    male  35.0   \n",
       "3            6         0       3          Moran, Mr. James    male   NaN   \n",
       "4            7         0       1   McCarthy, Mr. Timothy J    male  54.0   \n",
       "\n",
       "   sibsp  parch            ticket     fare cabin embarked  \n",
       "0      1      0         A/5 21171   7.2500   NaN        S  \n",
       "1      0      0  STON/O2. 3101282   7.9250   NaN        S  \n",
       "2      0      0            373450   8.0500   NaN        S  \n",
       "3      0      0            330877   8.4583   NaN        Q  \n",
       "4      0      0             17463  51.8625   E46        S  "
      ]
     },
     "execution_count": 104,
     "metadata": {},
     "output_type": "execute_result"
    }
   ],
   "source": [
    "df = pd.read_csv(filepath_or_buffer='data/titanic.csv', skiprows=[2,4])\n",
    "\n",
    "\n",
    "# print(type(df))\n",
    "\n",
    "df.head()"
   ]
  },
  {
   "cell_type": "code",
   "execution_count": null,
   "metadata": {},
   "outputs": [],
   "source": []
  },
  {
   "cell_type": "code",
   "execution_count": 11,
   "metadata": {},
   "outputs": [
    {
     "data": {
      "text/html": [
       "<div>\n",
       "<style scoped>\n",
       "    .dataframe tbody tr th:only-of-type {\n",
       "        vertical-align: middle;\n",
       "    }\n",
       "\n",
       "    .dataframe tbody tr th {\n",
       "        vertical-align: top;\n",
       "    }\n",
       "\n",
       "    .dataframe thead th {\n",
       "        text-align: right;\n",
       "    }\n",
       "</style>\n",
       "<table border=\"1\" class=\"dataframe\">\n",
       "  <thead>\n",
       "    <tr style=\"text-align: right;\">\n",
       "      <th></th>\n",
       "      <th>passengerid</th>\n",
       "      <th>survived</th>\n",
       "      <th>pclass</th>\n",
       "      <th>name</th>\n",
       "      <th>sex</th>\n",
       "      <th>age</th>\n",
       "      <th>sibsp</th>\n",
       "      <th>parch</th>\n",
       "      <th>ticket</th>\n",
       "      <th>fare</th>\n",
       "      <th>cabin</th>\n",
       "      <th>embarked</th>\n",
       "    </tr>\n",
       "  </thead>\n",
       "  <tbody>\n",
       "    <tr>\n",
       "      <th>0</th>\n",
       "      <td>1</td>\n",
       "      <td>0</td>\n",
       "      <td>3</td>\n",
       "      <td>Braund, Mr. Owen Harris</td>\n",
       "      <td>male</td>\n",
       "      <td>22.0</td>\n",
       "      <td>1</td>\n",
       "      <td>0</td>\n",
       "      <td>A/5 21171</td>\n",
       "      <td>7.2500</td>\n",
       "      <td>NaN</td>\n",
       "      <td>S</td>\n",
       "    </tr>\n",
       "    <tr>\n",
       "      <th>1</th>\n",
       "      <td>2</td>\n",
       "      <td>1</td>\n",
       "      <td>1</td>\n",
       "      <td>Cumings, Mrs. John Bradley (Florence Briggs Th...</td>\n",
       "      <td>female</td>\n",
       "      <td>38.0</td>\n",
       "      <td>1</td>\n",
       "      <td>0</td>\n",
       "      <td>PC 17599</td>\n",
       "      <td>71.2833</td>\n",
       "      <td>C85</td>\n",
       "      <td>C</td>\n",
       "    </tr>\n",
       "    <tr>\n",
       "      <th>2</th>\n",
       "      <td>3</td>\n",
       "      <td>1</td>\n",
       "      <td>3</td>\n",
       "      <td>Heikkinen, Miss. Laina</td>\n",
       "      <td>female</td>\n",
       "      <td>26.0</td>\n",
       "      <td>0</td>\n",
       "      <td>0</td>\n",
       "      <td>STON/O2. 3101282</td>\n",
       "      <td>7.9250</td>\n",
       "      <td>NaN</td>\n",
       "      <td>S</td>\n",
       "    </tr>\n",
       "    <tr>\n",
       "      <th>3</th>\n",
       "      <td>4</td>\n",
       "      <td>1</td>\n",
       "      <td>1</td>\n",
       "      <td>Futrelle, Mrs. Jacques Heath (Lily May Peel)</td>\n",
       "      <td>female</td>\n",
       "      <td>35.0</td>\n",
       "      <td>1</td>\n",
       "      <td>0</td>\n",
       "      <td>113803</td>\n",
       "      <td>53.1000</td>\n",
       "      <td>C123</td>\n",
       "      <td>S</td>\n",
       "    </tr>\n",
       "    <tr>\n",
       "      <th>4</th>\n",
       "      <td>5</td>\n",
       "      <td>0</td>\n",
       "      <td>3</td>\n",
       "      <td>Allen, Mr. William Henry</td>\n",
       "      <td>male</td>\n",
       "      <td>35.0</td>\n",
       "      <td>0</td>\n",
       "      <td>0</td>\n",
       "      <td>373450</td>\n",
       "      <td>8.0500</td>\n",
       "      <td>NaN</td>\n",
       "      <td>S</td>\n",
       "    </tr>\n",
       "  </tbody>\n",
       "</table>\n",
       "</div>"
      ],
      "text/plain": [
       "   passengerid  survived  pclass  \\\n",
       "0            1         0       3   \n",
       "1            2         1       1   \n",
       "2            3         1       3   \n",
       "3            4         1       1   \n",
       "4            5         0       3   \n",
       "\n",
       "                                                name     sex   age  sibsp  \\\n",
       "0                            Braund, Mr. Owen Harris    male  22.0      1   \n",
       "1  Cumings, Mrs. John Bradley (Florence Briggs Th...  female  38.0      1   \n",
       "2                             Heikkinen, Miss. Laina  female  26.0      0   \n",
       "3       Futrelle, Mrs. Jacques Heath (Lily May Peel)  female  35.0      1   \n",
       "4                           Allen, Mr. William Henry    male  35.0      0   \n",
       "\n",
       "   parch            ticket     fare cabin embarked  \n",
       "0      0         A/5 21171   7.2500   NaN        S  \n",
       "1      0          PC 17599  71.2833   C85        C  \n",
       "2      0  STON/O2. 3101282   7.9250   NaN        S  \n",
       "3      0            113803  53.1000  C123        S  \n",
       "4      0            373450   8.0500   NaN        S  "
      ]
     },
     "execution_count": 11,
     "metadata": {},
     "output_type": "execute_result"
    }
   ],
   "source": [
    "df = pd.read_csv(filepath_or_buffer='data/titanic.csv', sep=',')\n",
    "df.head()"
   ]
  },
  {
   "cell_type": "markdown",
   "metadata": {},
   "source": [
    "# How to search around for answers."
   ]
  },
  {
   "cell_type": "markdown",
   "metadata": {},
   "source": [
    "![Figuring out stuff on your own](https://memegenerator.net/img/instances/85197145.jpg)"
   ]
  },
  {
   "cell_type": "markdown",
   "metadata": {},
   "source": [
    "# What if we wanted to change the column named `embarked` to the name `location`?"
   ]
  },
  {
   "cell_type": "code",
   "execution_count": null,
   "metadata": {},
   "outputs": [],
   "source": []
  }
 ],
 "metadata": {
  "kernelspec": {
   "display_name": "Python 3 (ipykernel)",
   "language": "python",
   "name": "python3"
  },
  "language_info": {
   "codemirror_mode": {
    "name": "ipython",
    "version": 3
   },
   "file_extension": ".py",
   "mimetype": "text/x-python",
   "name": "python",
   "nbconvert_exporter": "python",
   "pygments_lexer": "ipython3",
   "version": "3.8.5"
  }
 },
 "nbformat": 4,
 "nbformat_minor": 4
}
