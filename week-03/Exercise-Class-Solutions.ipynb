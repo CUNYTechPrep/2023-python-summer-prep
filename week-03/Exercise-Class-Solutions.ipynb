{
 "cells": [
  {
   "cell_type": "markdown",
   "metadata": {},
   "source": [
    "# Googling how to do something is NOT cheating. \n",
    "# Googling how to do figure something out is ENCOURAGED. "
   ]
  },
  {
   "cell_type": "markdown",
   "metadata": {},
   "source": [
    "## #1 Figure out how to print the current date and time. \n",
    "The solution should be in this format:  2021-08-05 11:56:30 (YYYY-MM-DD HH:MM:SS)\n",
    "\n",
    "Hint:  You're going to have to import a library"
   ]
  },
  {
   "cell_type": "code",
   "execution_count": 3,
   "metadata": {},
   "outputs": [
    {
     "name": "stdout",
     "output_type": "stream",
     "text": [
      "2023-08-10 18:43:55.616503\n"
     ]
    }
   ],
   "source": [
    "from datetime import datetime \n",
    "\n",
    "print( datetime.now() ) "
   ]
  },
  {
   "cell_type": "markdown",
   "metadata": {},
   "source": [
    "## #2 Write a function that accepts the radius of a circle and returns the area of a circle.  \n",
    "The function for the area of a circle is pi * radius squared.  "
   ]
  },
  {
   "cell_type": "code",
   "execution_count": 14,
   "metadata": {},
   "outputs": [
    {
     "name": "stdout",
     "output_type": "stream",
     "text": [
      "Enter radius99\n",
      "30790.74959783356\n",
      "30790.74959783356\n"
     ]
    },
    {
     "data": {
      "text/plain": [
       "9801"
      ]
     },
     "execution_count": 14,
     "metadata": {},
     "output_type": "execute_result"
    }
   ],
   "source": [
    "import math\n",
    "\n",
    "\n",
    "def radius_circle_acceptor(radius):\n",
    "    area = math.pi * (radius**2)\n",
    "    print(area)\n",
    "    return area\n",
    "\n",
    "user_input = int(input(\"Enter radius\"))\n",
    "\n",
    "found_area = radius_circle_acceptor(user_input)\n",
    "print(found_area)\n",
    "99**2"
   ]
  },
  {
   "cell_type": "code",
   "execution_count": 11,
   "metadata": {},
   "outputs": [
    {
     "data": {
      "text/plain": [
       "9801"
      ]
     },
     "execution_count": 11,
     "metadata": {},
     "output_type": "execute_result"
    }
   ],
   "source": [
    "pow(99, 2)"
   ]
  },
  {
   "cell_type": "markdown",
   "metadata": {},
   "source": [
    "## #3 Write a function that takes a list of numbers and returns True of all number in the list are unique and returns False if the list contains duplicate numbers. \n",
    "* Hint, maybe think of using a set()\n",
    "\n",
    "Input:  input_list = [2,4,5,5,7,9]\n",
    "\n",
    "Expected Output:  False"
   ]
  },
  {
   "cell_type": "code",
   "execution_count": 15,
   "metadata": {},
   "outputs": [
    {
     "name": "stdout",
     "output_type": "stream",
     "text": [
      "False\n"
     ]
    }
   ],
   "source": [
    "def check_for_duplicates(input_list):\n",
    "    set_size = len(set(input_list))\n",
    "    \n",
    "    if set_size == len(input_list):\n",
    "        return True\n",
    "    else:\n",
    "        return False\n",
    "\n",
    "s = [2, 4, 5, 5, 7, 9]\n",
    "\n",
    "print(check_for_duplicates(s))"
   ]
  },
  {
   "cell_type": "markdown",
   "metadata": {},
   "source": [
    "## #4 Write a Python program to count the number of each character of a given text of a text file.\n",
    "* Use the text file called 'lil-wayne.txt' in the data folder.  \n",
    "* Convert all the characters to uppercase first, then count them.  \n",
    "* Use a dictionary in which the keys of the dictionary are the characters, and the values are the counts of that character. \n",
    "\n",
    "Expected Result:  `{'D': 74, 'W': 63, 'A': 211, 'Y': 44, 'N': 165, 'E': 274, ' ': 522, 'M': 77, 'I': 185, 'C': 60, 'H': 122, 'L': 126, 'R': 152, 'T': 180, 'J': 8, '.': 26, '(': 12, 'B': 59, 'O': 145, 'S': 152, 'P': 39, '2': 24, '7': 7, ',': 37, '1': 28, '9': 16, '8': 6, ')': 12, '[': 14, ']': 14, 'K': 13, 'F': 44, 'G': 53, 'X': 5, 'U': 66, 'V': 20, '3': 2, '4': 4, '5': 5, '6': 3, '0': 36, '\\n': 6, '-': 6, ';': 1, '!': 1, '\"': 8, \"'\": 3, '—': 1}`"
   ]
  },
  {
   "cell_type": "code",
   "execution_count": 17,
   "metadata": {},
   "outputs": [
    {
     "data": {
      "text/plain": [
       "{'D': 148,\n",
       " 'W': 126,\n",
       " 'A': 422,\n",
       " 'Y': 88,\n",
       " 'N': 330,\n",
       " 'E': 548,\n",
       " ' ': 1044,\n",
       " 'M': 154,\n",
       " 'I': 370,\n",
       " 'C': 120,\n",
       " 'H': 244,\n",
       " 'L': 252,\n",
       " 'R': 304,\n",
       " 'T': 360,\n",
       " 'J': 16,\n",
       " '.': 52,\n",
       " '(': 24,\n",
       " 'B': 118,\n",
       " 'O': 290,\n",
       " 'S': 304,\n",
       " 'P': 78,\n",
       " '2': 48,\n",
       " '7': 14,\n",
       " ',': 74,\n",
       " '1': 56,\n",
       " '9': 32,\n",
       " '8': 12,\n",
       " ')': 24,\n",
       " '[': 28,\n",
       " ']': 28,\n",
       " 'K': 26,\n",
       " 'F': 88,\n",
       " 'G': 106,\n",
       " 'X': 10,\n",
       " 'U': 132,\n",
       " 'V': 40,\n",
       " '3': 4,\n",
       " '4': 8,\n",
       " '5': 10,\n",
       " '6': 6,\n",
       " '0': 72,\n",
       " '\\n': 12,\n",
       " '-': 12,\n",
       " ';': 2,\n",
       " '!': 2,\n",
       " '—': 2}"
      ]
     },
     "execution_count": 17,
     "metadata": {},
     "output_type": "execute_result"
    }
   ],
   "source": [
    "d = {}\n",
    "letter_counts = {} \n",
    "\n",
    "\n",
    "with open('data/lil-wayne.txt', 'r') as data_file:\n",
    "    with open('output.txt', 'a') as output_file:\n",
    "        for line in data_file:\n",
    "            output_file.write(line.upper())\n",
    "            o = open('output.txt', 'r')\n",
    "        \n",
    "\n",
    "with open('output.txt', 'r') as f:\n",
    "    for line in f:\n",
    "        for c in line:\n",
    "            if c in d:\n",
    "                d[c] += 1\n",
    "            else:\n",
    "                d[c] = 1\n",
    "d\n"
   ]
  },
  {
   "cell_type": "code",
   "execution_count": 21,
   "metadata": {},
   "outputs": [
    {
     "data": {
      "text/plain": [
       "['Dwayne Michael Carter Jr. (born September 27, 1982),[2] known professionally as Lil Wayne, is an American rapper, singer, songwriter and record executive.. He is commonly regarded as one of the most influential hip hop artists of his generation,[3] and often cited as one of the greatest rappers of all time.[4][5] His career began in 1995, at the age of 12, when he was signed by rapper Birdman, joining Cash Money Records as the youngest member of the label.[6] From then on, Wayne was the flagship artist of Cash Money Records before ending his association with the company in June 2018.[7]\\n',\n",
       " '\\n',\n",
       " 'In 1995, Wayne was put in a duo with label-mate B.G. (at the time known as Lil Doogie) and they recorded an album, True Story, released that year, although Wayne (at the time known as Baby D) only appeared on three tracks.[8] Wayne and B.G. soon joined the southern hip hop group Hot Boys, with Cash Money label-mates Juvenile and Turk in 1997; they released their debut album Get It How U Live! in October that year. The Hot Boys became popular following the release of the album Guerrilla Warfare (1999) and the song Bling Bling.\\n',\n",
       " '\\n',\n",
       " 'Lil Waynes solo debut album Tha Block Is Hot (1999) was his solo breakthrough, and he reached higher popularity with his fourth album Tha Carter (2004) and fifth album Tha Carter II (2005), as well as several mixtapes and collaborations throughout 2006 and 2007. He gained more prominence within the music industry with his sixth album Tha Carter III (2008), with first-week sales of over one million copies in the US. The album won the Grammy Award for Best Rap Album and included successful singles A Milli, Got Money (featuring T-Pain), and Lollipop (featuring Static Major)—the latter being his first single to reach number one on the Billboard Hot 100. In February 2010, Wayne released his seventh studio album, Rebirth, which experimented with rap rock and was met with generally negative reviews. A month later in March 2010, Lil Wayne began serving an 8-month jail sentence in New York after being convicted of criminal possession of a weapon stemming from an incident in July 2007. His eighth studio album I Am Not a Human Being (2010) was released during his incarceration, while his 2011 album Tha Carter IV was released following his release. Tha Carter IV sold 964,000 copies in its first week in the United States.[9] His twelfth studio album Tha Carter V was released in 2018 after multiple delays. Waynes thirteenth album, Funeral, was released in early 2020.[10]\\n',\n",
       " '\\n',\n",
       " 'Lil Wayne has sold over 120 million records worldwide, including more than 20 million albums and 70 million digital tracks in the United States, making him one of the worlds best-selling music artists.[11][12][13] He has won five Grammy Awards, 11 BET Awards, four Billboard Music Awards, two MTV Video Music Awards and eight NAACP Image Awards. On September 27, 2012, he became the first male artist to surpass Elvis Presley with the most entries on the Billboard Hot 100, with 109 songs.[14][15] Lil Wayne also currently serves as the chief executive officer (CEO) of his own label, Young Money Entertainment.']"
      ]
     },
     "execution_count": 21,
     "metadata": {},
     "output_type": "execute_result"
    }
   ],
   "source": [
    "file_handle = open('data/lil-wayne.txt')\n",
    "# this_read =  file_handle.read()\n",
    "this_readlines = file_handle.readlines()\n",
    "\n",
    "# this_readlines\n"
   ]
  },
  {
   "cell_type": "code",
   "execution_count": 22,
   "metadata": {},
   "outputs": [],
   "source": [
    "! open ."
   ]
  },
  {
   "cell_type": "markdown",
   "metadata": {},
   "source": [
    "# 4.5 Figure out how to sort the dictionary to find which character appears the most."
   ]
  },
  {
   "cell_type": "code",
   "execution_count": null,
   "metadata": {},
   "outputs": [],
   "source": []
  },
  {
   "cell_type": "markdown",
   "metadata": {},
   "source": [
    "## #5 Using the list below...\n",
    "* Remove the fourth number from the list.\n",
    "* Take that number you just removed and multiply the last number of the list by that number. \n",
    "* Append that number to the end of the list.\n",
    "* Print the list\n",
    "\n",
    "INPUT: [1, 1, 2, 3, 5, 8, 13, 21]\n",
    "\n",
    "EXPECTED OUTPUT:  [1, 1, 2, 5, 8, 13, 21, 63]\n",
    "\n"
   ]
  },
  {
   "cell_type": "code",
   "execution_count": 1,
   "metadata": {},
   "outputs": [],
   "source": [
    "list1 = [1, 1, 2, 3, 5, 8, 13, 21]"
   ]
  },
  {
   "cell_type": "markdown",
   "metadata": {},
   "source": [
    "## #6 Using the list below, make a new list that contains only the numbers from the original list that are divisible by three.\n",
    "\n",
    "* Input:  original_list = [2, 3, 6, 8, 9, 15, 19, 21]\n",
    "* Expected new list:  [3, 6, 9, 15, 21]\n"
   ]
  },
  {
   "cell_type": "code",
   "execution_count": 2,
   "metadata": {},
   "outputs": [],
   "source": [
    "original_list = [2, 3, 6, 8, 9, 15, 19, 21]"
   ]
  },
  {
   "cell_type": "markdown",
   "metadata": {},
   "source": [
    "## #7 Reverse the list below"
   ]
  },
  {
   "cell_type": "code",
   "execution_count": 3,
   "metadata": {},
   "outputs": [],
   "source": [
    "original_list = [2, 3, 6, 8, 9, 15, 19, 21]"
   ]
  },
  {
   "cell_type": "markdown",
   "metadata": {},
   "source": [
    "## #8 Using the list below, turn every item of the list into its square.  \n",
    "* Input original_list = [1, 2, 3, 4, 5, 6, 7]\n",
    "* Expected new_list:  [1, 4, 9, 16, 25, 36, 49]\n"
   ]
  },
  {
   "cell_type": "code",
   "execution_count": 4,
   "metadata": {},
   "outputs": [],
   "source": [
    "original_list = [1, 2, 3, 4, 5, 6, 7]\n"
   ]
  },
  {
   "cell_type": "markdown",
   "metadata": {},
   "source": [
    "## #9  Given a two Python list. Iterate both lists simultaneously such that list1 should display item in original order and list2 in reverse order.\n",
    "Given input:\n",
    "```\n",
    "list1 = [10, 20, 30, 40]\n",
    "list2 = [100, 200, 300, 400]\n",
    "```\n",
    "\n",
    "Expected Output:\n",
    "```\n",
    "10 400\n",
    "20 300\n",
    "30 200\n",
    "40 100\n",
    "```"
   ]
  },
  {
   "cell_type": "code",
   "execution_count": 5,
   "metadata": {},
   "outputs": [],
   "source": [
    "list1 = [10, 20, 30, 40]\n",
    "list2 = [100, 200, 300, 400]"
   ]
  },
  {
   "cell_type": "markdown",
   "metadata": {},
   "source": [
    "## #10 Remove empty strings from the list of strings.\n",
    "Input:  `list_of_strings = ['I', 'love', '', '', 'data', '', 'science', '!']`\n",
    "\n",
    "Expected Output:  `['I', 'love', 'data', 'science', '!']`"
   ]
  },
  {
   "cell_type": "code",
   "execution_count": 6,
   "metadata": {},
   "outputs": [],
   "source": [
    "list_of_strings = ['I', 'love', '', '', 'data', '', 'science', '!']\n"
   ]
  },
  {
   "cell_type": "markdown",
   "metadata": {},
   "source": [
    "##  #11 Check if the value 999 exists in the dicitionary below.  If so, print true, if not print false.\n",
    "\n",
    "Input: sample_dict = {'a': 100, 'b': 999, 'c': 300}\n",
    "\n",
    "Expected Output:  True"
   ]
  },
  {
   "cell_type": "code",
   "execution_count": 7,
   "metadata": {},
   "outputs": [],
   "source": [
    "sample_dict = {'a': 100, 'b': 999, 'c': 300}\n"
   ]
  },
  {
   "cell_type": "markdown",
   "metadata": {},
   "source": [
    "# Extra Credit"
   ]
  },
  {
   "cell_type": "markdown",
   "metadata": {},
   "source": [
    "## Using pandas, read the csv file in the data folder called `titianic.csv` and store it as a variable named `df`."
   ]
  },
  {
   "cell_type": "code",
   "execution_count": 8,
   "metadata": {},
   "outputs": [
    {
     "name": "stderr",
     "output_type": "stream",
     "text": [
      "/Users/zacharydesario/opt/anaconda3/lib/python3.8/site-packages/pandas/core/computation/expressions.py:20: UserWarning: Pandas requires version '2.7.3' or newer of 'numexpr' (version '2.7.1' currently installed).\n",
      "  from pandas.core.computation.check import NUMEXPR_INSTALLED\n"
     ]
    }
   ],
   "source": [
    "import pandas as pd"
   ]
  },
  {
   "cell_type": "markdown",
   "metadata": {},
   "source": [
    "## I know we didn't cover this, but figure out how to find the mean age of the age column in your dataframe. "
   ]
  },
  {
   "cell_type": "code",
   "execution_count": null,
   "metadata": {},
   "outputs": [],
   "source": []
  },
  {
   "cell_type": "markdown",
   "metadata": {},
   "source": [
    "## What was the oldest and youngest ages on the titanic?"
   ]
  },
  {
   "cell_type": "code",
   "execution_count": null,
   "metadata": {},
   "outputs": [],
   "source": []
  },
  {
   "cell_type": "markdown",
   "metadata": {},
   "source": [
    "## How many people embarked from station 'S'?"
   ]
  },
  {
   "cell_type": "code",
   "execution_count": null,
   "metadata": {},
   "outputs": [],
   "source": []
  }
 ],
 "metadata": {
  "kernelspec": {
   "display_name": "Python 3 (ipykernel)",
   "language": "python",
   "name": "python3"
  },
  "language_info": {
   "codemirror_mode": {
    "name": "ipython",
    "version": 3
   },
   "file_extension": ".py",
   "mimetype": "text/x-python",
   "name": "python",
   "nbconvert_exporter": "python",
   "pygments_lexer": "ipython3",
   "version": "3.8.5"
  }
 },
 "nbformat": 4,
 "nbformat_minor": 4
}
